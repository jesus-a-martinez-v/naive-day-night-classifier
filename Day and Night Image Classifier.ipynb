{
 "cells": [
  {
   "cell_type": "markdown",
   "metadata": {},
   "source": [
    "# Day and Night Image Classifier\n",
    "---\n",
    "\n",
    "We'll use a dataset composed of 200 RGB images belonging to two categories: Day and night. There are 100 images per category. \n",
    "\n",
    "We'll build a classifier capable of labeling these images as \"day\" or \"night\" accurately, and will rely on the distinctive features of each picture.\n",
    "\n",
    "*NOTE*: All images come from [AMOS dataset](http://cs.uky.edu/~jacobs/datasets/amos/) (Archive of Many Outdoor Scenes).*\n"
   ]
  },
  {
   "cell_type": "markdown",
   "metadata": {},
   "source": [
    "## Import resources\n",
    "\n",
    "First, we need to import the libraries we'll use:"
   ]
  },
  {
   "cell_type": "code",
   "execution_count": 2,
   "metadata": {},
   "outputs": [
    {
     "ename": "ModuleNotFoundError",
     "evalue": "No module named 'cv2'",
     "output_type": "error",
     "traceback": [
      "\u001b[0;31m---------------------------------------------------------------------------\u001b[0m",
      "\u001b[0;31mModuleNotFoundError\u001b[0m                       Traceback (most recent call last)",
      "\u001b[0;32m<ipython-input-2-efa040e9196b>\u001b[0m in \u001b[0;36m<module>\u001b[0;34m()\u001b[0m\n\u001b[0;32m----> 1\u001b[0;31m \u001b[0;32mimport\u001b[0m \u001b[0mcv2\u001b[0m\u001b[0;34m\u001b[0m\u001b[0m\n\u001b[0m\u001b[1;32m      2\u001b[0m \u001b[0;32mimport\u001b[0m \u001b[0mhelpers\u001b[0m\u001b[0;34m\u001b[0m\u001b[0m\n\u001b[1;32m      3\u001b[0m \u001b[0;34m\u001b[0m\u001b[0m\n\u001b[1;32m      4\u001b[0m \u001b[0;32mimport\u001b[0m \u001b[0mnumpy\u001b[0m \u001b[0;32mas\u001b[0m \u001b[0mnp\u001b[0m\u001b[0;34m\u001b[0m\u001b[0m\n\u001b[1;32m      5\u001b[0m \u001b[0;32mimport\u001b[0m \u001b[0mmatplotlib\u001b[0m\u001b[0;34m.\u001b[0m\u001b[0mpyplot\u001b[0m \u001b[0;32mas\u001b[0m \u001b[0mplt\u001b[0m\u001b[0;34m\u001b[0m\u001b[0m\n",
      "\u001b[0;31mModuleNotFoundError\u001b[0m: No module named 'cv2'"
     ]
    }
   ],
   "source": [
    "import cv2\n",
    "import helpers\n",
    "\n",
    "import numpy as np\n",
    "import matplotlib.pyplot as plt\n",
    "import matplotlib.image as mpimg\n",
    "\n",
    "%matplotlib inline"
   ]
  },
  {
   "cell_type": "markdown",
   "metadata": {},
   "source": [
    "## Training and test data\n",
    "\n",
    "The 200 day/night images are split in training and test datasets:\n",
    "\n",
    "- 60% of these images comprise the training data we'll use to train the classifier.\n",
    "- 40% are test images, which we'll use to test our model's performance."
   ]
  },
  {
   "cell_type": "code",
   "execution_count": null,
   "metadata": {},
   "outputs": [],
   "source": [
    "# Directories where the images are\n",
    "image_training_directory = 'day_night_images/training/'\n",
    "image_test_directory = 'day_night_images/test/'"
   ]
  },
  {
   "cell_type": "markdown",
   "metadata": {},
   "source": [
    "## Loading datasets\n",
    "\n",
    "In the following lines we'll load the training images in a variable called `IMAGE_LIST`. It contains a list of images and labels (\"day\" or \"night\").\n",
    "\n",
    "For example, the first image-label pair can be accessed like this: `IMAGE_LIST[0][:]`"
   ]
  },
  {
   "cell_type": "code",
   "execution_count": null,
   "metadata": {},
   "outputs": [],
   "source": [
    "# Load images. Refer to the load_dataset function in helpers.py for more details.\n",
    "IMAGE_LIST = helpers.load_dataset(image_training_directory)"
   ]
  },
  {
   "cell_type": "markdown",
   "metadata": {},
   "source": [
    "## Build a `STANDARDIZED_LIST` of input images and output labels"
   ]
  },
  {
   "cell_type": "markdown",
   "metadata": {},
   "source": [
    "This function takes a list of image-label pairs and produces a list of standardized resized images and numeric labels."
   ]
  },
  {
   "cell_type": "code",
   "execution_count": null,
   "metadata": {},
   "outputs": [],
   "source": [
    "# Standardizes all training images.\n",
    "STANDARDIZED_LIST = helpers.standardize(IMAGE_LIST)"
   ]
  },
  {
   "cell_type": "markdown",
   "metadata": {},
   "source": [
    "## Visualize standardized data\n",
    "\n",
    "Show an standardized image from STANDARDIZED_LIST."
   ]
  },
  {
   "cell_type": "code",
   "execution_count": null,
   "metadata": {},
   "outputs": [],
   "source": [
    "# Show an standardized image along its label\n",
    "\n",
    "# Select an image index.\n",
    "index = 0\n",
    "selected_image = STANDARDIZED_LIST[index][0]\n",
    "selected_label = STANDARDIZED_LIST[index][1]\n",
    "\n",
    "# Show the image and related info\n",
    "plt.imshow(selected_image)\n",
    "print(\"Shape: {}\".format(selected_image.shape))\n",
    "print(\"Label [1 = day, 0 = night]: {}\".format(selected_label))"
   ]
  },
  {
   "cell_type": "markdown",
   "metadata": {},
   "source": [
    "## Feature extraction\n",
    "\n",
    "Let's create a feature that represents the image brightness. We'll extract the **average brightness** using the HSV color space. Specially, we'll use V channel (which measures brightness), and then we'll sum all pixel values in it in order to divide that sum by the image area."
   ]
  },
  {
   "cell_type": "markdown",
   "metadata": {},
   "source": [
    "---\n",
    "### Find average brightness using V channel\n",
    "\n",
    "This function takes an **standardized** RGB image and returns a _feature_ (single value) that represents the average brightness in the image. We'll use this number to label the image as day or night."
   ]
  },
  {
   "cell_type": "code",
   "execution_count": null,
   "metadata": {},
   "outputs": [],
   "source": [
    "# Find average brightness\n",
    "def average_brightness(rgb_image):\n",
    "    # Switch to HSV\n",
    "    hsv = cv2.cvtColor(rgb_image, cv2.COLOR_RGB2HSV)\n",
    "    \n",
    "    # Sum all pixels in V\n",
    "    sum_brightness = np.sum(hsv[:, :, 2])\n",
    "    area = 600 * 1100.0  # We know these dimensions beforehand.\n",
    "    \n",
    "    return sum_brightness / area"
   ]
  },
  {
   "cell_type": "code",
   "execution_count": null,
   "metadata": {},
   "outputs": [],
   "source": [
    "index = 190\n",
    "test_image = STANDARDIZED_LIST[index][0]\n",
    "\n",
    "average = average_brightness(test_image)\n",
    "print('Average brightness: {}'.format(average))\n",
    "plt.imshow(test_image)"
   ]
  },
  {
   "cell_type": "markdown",
   "metadata": {},
   "source": [
    "## Classifying and Error Visualization\n",
    "\n",
    "In this section we'll turn our _feature_ in a classifier that takes an standardized image to produce a label.\n",
    "\n",
    "---"
   ]
  },
  {
   "cell_type": "code",
   "execution_count": null,
   "metadata": {},
   "outputs": [],
   "source": [
    "def estimate_label(rgb_image):\n",
    "    brightness = average_brightness(rgb_image)\n",
    "    \n",
    "    threshold = 100.0\n",
    "    \n",
    "    if brightness >= threshold:\n",
    "        return 1\n",
    "    else:\n",
    "        return 0"
   ]
  },
  {
   "cell_type": "code",
   "execution_count": null,
   "metadata": {},
   "outputs": [],
   "source": [
    "# Test our code\n",
    "print('Label: ', estimate_label(test_image))"
   ]
  },
  {
   "cell_type": "code",
   "execution_count": null,
   "metadata": {},
   "outputs": [],
   "source": [
    "# What's our accuracy?\n",
    "\n",
    "good_predictions = 0\n",
    "for image, label in STANDARDIZED_LIST:\n",
    "    predicted_label = estimate_label(image)\n",
    "    \n",
    "    if predicted_label == label:\n",
    "        good_predictions += 1\n",
    "        \n",
    "\n",
    "accuracy = good_predictions / len(STANDARDIZED_LIST)\n",
    "print(\"Model's accuracy:\", accuracy)"
   ]
  }
 ],
 "metadata": {
  "kernelspec": {
   "display_name": "Python 3",
   "language": "python",
   "name": "python3"
  },
  "language_info": {
   "codemirror_mode": {
    "name": "ipython",
    "version": 3
   },
   "file_extension": ".py",
   "mimetype": "text/x-python",
   "name": "python",
   "nbconvert_exporter": "python",
   "pygments_lexer": "ipython3",
   "version": "3.6.6"
  }
 },
 "nbformat": 4,
 "nbformat_minor": 2
}
