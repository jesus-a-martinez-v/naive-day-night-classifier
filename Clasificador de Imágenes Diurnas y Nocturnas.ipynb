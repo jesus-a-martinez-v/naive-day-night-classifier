{
 "cells": [
  {
   "cell_type": "markdown",
   "metadata": {},
   "source": [
    "# Clasificador de Imágenes Diurnas y Nocturnas\n",
    "---\n",
    "\n",
    "Para esta tarea utilizaremos un dataset que consiste de 200 imágenes RGB en dos categorías: Diurnas y nocturnas. Hay 100 imágenes diurnas y 100 nocturnas.\n",
    "\n",
    "Construiremos un clasificador que pueda etiquetar éstas imágenes como \"día\" o \"noche\" de manera acertada, y que se apoye en las características distintivas de cada tipo de fotografía.\n",
    "\n",
    "*NOTA*: Todas las imágenes provienen de [AMOS dataset](http://cs.uky.edu/~jacobs/datasets/amos/) (Archive of Many Outdoor Scenes).*\n"
   ]
  },
  {
   "cell_type": "markdown",
   "metadata": {},
   "source": [
    "## Importando los recursos\n",
    "\n",
    "Antes de comenzar, necesitamos importar las librerías que utilizaremos"
   ]
  },
  {
   "cell_type": "code",
   "execution_count": 2,
   "metadata": {},
   "outputs": [
    {
     "ename": "ModuleNotFoundError",
     "evalue": "No module named 'matplotlib'",
     "output_type": "error",
     "traceback": [
      "\u001b[0;31m---------------------------------------------------------------------------\u001b[0m",
      "\u001b[0;31mModuleNotFoundError\u001b[0m                       Traceback (most recent call last)",
      "\u001b[0;32m<ipython-input-2-4f0e50d7cbcf>\u001b[0m in \u001b[0;36m<module>\u001b[0;34m()\u001b[0m\n\u001b[1;32m      3\u001b[0m \u001b[0;34m\u001b[0m\u001b[0m\n\u001b[1;32m      4\u001b[0m \u001b[0;32mimport\u001b[0m \u001b[0mnumpy\u001b[0m \u001b[0;32mas\u001b[0m \u001b[0mnp\u001b[0m\u001b[0;34m\u001b[0m\u001b[0m\n\u001b[0;32m----> 5\u001b[0;31m \u001b[0;32mimport\u001b[0m \u001b[0mmatplotlib\u001b[0m\u001b[0;34m.\u001b[0m\u001b[0mpyplot\u001b[0m \u001b[0;32mas\u001b[0m \u001b[0mplt\u001b[0m\u001b[0;34m\u001b[0m\u001b[0m\n\u001b[0m\u001b[1;32m      6\u001b[0m \u001b[0;32mimport\u001b[0m \u001b[0mmatplotlig\u001b[0m\u001b[0;34m.\u001b[0m\u001b[0mimage\u001b[0m \u001b[0;32mas\u001b[0m \u001b[0mmpimg\u001b[0m\u001b[0;34m\u001b[0m\u001b[0m\n\u001b[1;32m      7\u001b[0m \u001b[0;34m\u001b[0m\u001b[0m\n",
      "\u001b[0;31mModuleNotFoundError\u001b[0m: No module named 'matplotlib'"
     ]
    }
   ],
   "source": [
    "import cv2\n",
    "import helpers\n",
    "\n",
    "import numpy as np\n",
    "import matplotlib.pyplot as plt\n",
    "import matplotlib.image as mpimg\n",
    "\n",
    "%matplotlib inline"
   ]
  },
  {
   "cell_type": "markdown",
   "metadata": {},
   "source": [
    "## Data de entrenamiento y de prueba\n",
    "\n",
    "Las 200 imágenes diurnas/nocturnas están separadas en datasets de entrenamiento y de prueba, donde:\n",
    "\n",
    "- 60% de éstas imágenes constituyen el dataset de entrenamiento que usaremos para crear el clasificador.\n",
    "- 40% son imágenes de pruebas, las cuales usaremos para poner a prueba el desempeño del clasificador."
   ]
  },
  {
   "cell_type": "code",
   "execution_count": 3,
   "metadata": {},
   "outputs": [],
   "source": [
    "# Directories donde se hallan las imágenes\n",
    "image_training_directory = 'day_night_images/training/'\n",
    "image_test_directory = 'day_night_images/test/'"
   ]
  },
  {
   "cell_type": "markdown",
   "metadata": {},
   "source": [
    "## Cargando los datasets\n",
    "\n",
    "En las siguientes líneas de código cargaremos las imágenes de entrenamiento en una variable llamada `IMAGE_LIST`. Ésta lista contiene las imágenes y su etiqueta asociada (\"day\" o \"night\").\n",
    "\n",
    "Por ejemplo, el primer par imagen-etiqueta puede ser accedido así: `IMAGE_LIST[0][:]`"
   ]
  },
  {
   "cell_type": "code",
   "execution_count": null,
   "metadata": {},
   "outputs": [],
   "source": [
    "# Carguemos las imágenes. Para más detalles, mira la función load_dataset en helpers.py.\n",
    "IMAGE_LIST = helpers.load_dataset(image_training_directory)"
   ]
  },
  {
   "cell_type": "markdown",
   "metadata": {},
   "source": [
    "## Construyendo una `STANDARDIZED_LIST` de imágenes de entrada y etiquetas de salida"
   ]
  },
  {
   "cell_type": "markdown",
   "metadata": {},
   "source": [
    "Esta función toma una lista de pares de imagen-etiqueta y produce una lista estandarizada de imágenes reajustadas en tamaño y etiquetas numéricas."
   ]
  },
  {
   "cell_type": "code",
   "execution_count": null,
   "metadata": {},
   "outputs": [],
   "source": [
    "# Estandariza todas las imágenes de entrenamiento.\n",
    "STANDARDIZED_LIST = helpers.standardize(IMAGE_LIST)"
   ]
  },
  {
   "cell_type": "markdown",
   "metadata": {},
   "source": [
    "## Visualizando la data estandarizada\n",
    "\n",
    "Mostremos una imagen estandarizada de la STANDARDIZED_LIST."
   ]
  },
  {
   "cell_type": "code",
   "execution_count": null,
   "metadata": {},
   "outputs": [],
   "source": [
    "# Muestra una imagen estandarizada junto con su etiqueta\n",
    "\n",
    "# Selecciona una imagen por índice.\n",
    "index = 0\n",
    "selected_image = STANDARDIZED_LIST[index][0]\n",
    "selected_label = STANDARDIZED_LIST[index][1]\n",
    "\n",
    "# Muestra la imagen e información de la misma.\n",
    "plt.imshow(selected_image)\n",
    "print(\"Forma: {}\".format(selected_image.shape))\n",
    "print(\"Etiqueta [1 = day, 0 = night]: {}\".format(selected_label))"
   ]
  },
  {
   "cell_type": "markdown",
   "metadata": {},
   "source": [
    "## Extracción de características (_features_)\n",
    "\n",
    "Creemos un feature que represente el brillo de la imagen. Extraeremos el **brillo promedio** utilizando el espacio de color HSV. Especialmente, utilizaremos el canal V (el cual mide el brillo), y sumaremos los valores de los píxeles en dicho canal, para luego dividirla por el área de la imagen."
   ]
  },
  {
   "cell_type": "markdown",
   "metadata": {},
   "source": [
    "---\n",
    "### Encontremos el brillo promedio utilizando el canal V\n",
    "\n",
    "ESta función toma una imagen RGB **estandarizada** y retorna un _feature_ (un único valor) que representa el nivel promedio de brillo en la imagen. Utilizaremos ésta cifra para clasificar la imagen como diurna o nocturna."
   ]
  },
  {
   "cell_type": "code",
   "execution_count": null,
   "metadata": {},
   "outputs": [],
   "source": [
    "# Encontremos el brillo promedio\n",
    "def average_brightness(rgb_image):\n",
    "    # Pasemos a HSV\n",
    "    hsv = cv2.cvtColor(rgb_image, cv2.COLOR_RGB2HSV)\n",
    "    \n",
    "    # Sumemos todos los píxeles en el canal V\n",
    "    sum_brightness = np.sum(hsv[:, :, 2])\n",
    "    area = 600 * 1100.0  # Estas dimensiones las sabemos de antemano.\n",
    "    \n",
    "    return sum_brightness / area"
   ]
  },
  {
   "cell_type": "code",
   "execution_count": null,
   "metadata": {},
   "outputs": [],
   "source": [
    "# Probemos los niveles de brillo para diferentes imágenes\n",
    "# Mira distintas imágenes diurnas y nocturnas. Intenta encontrar un umbral U\n",
    "# tal que imágenes con un brillo promedio por debajo de ese umbral sean clasificadas\n",
    "# como nocturnas, mientras que las que tengan un brillo por encima, sean categorizadas\n",
    "# como dirunas.\n",
    "\n",
    "index = 190\n",
    "test_image = STANDARDIZED_LIST[index][0]\n",
    "\n",
    "average = average_brightness(test_image)\n",
    "print('Brillo promedio: {}'.format(average))\n",
    "plt.imshow(test_image)"
   ]
  },
  {
   "cell_type": "markdown",
   "metadata": {},
   "source": [
    "## Clasificación y Visualización del Error\n",
    "\n",
    "En esta sección convertiremos nuestro _feature_ en un clasificador que toma una imagen estandarizada y produce una predicción de etiqueta para esa imagen. El resultado de esta función será 0 para noche y 1 para día.\n",
    "\n",
    "---"
   ]
  },
  {
   "cell_type": "code",
   "execution_count": null,
   "metadata": {},
   "outputs": [],
   "source": [
    "def estimate_label(rgb_image):\n",
    "    brightness = average_brightness(rgb_image)\n",
    "    \n",
    "    threshold = 100.0\n",
    "    \n",
    "    if brightness >= threshold:\n",
    "        return 1\n",
    "    else:\n",
    "        return 0"
   ]
  },
  {
   "cell_type": "code",
   "execution_count": null,
   "metadata": {},
   "outputs": [],
   "source": [
    "# Probemos nuestro código\n",
    "print('Etiqueta: ', estimate_label(test_image))"
   ]
  },
  {
   "cell_type": "code",
   "execution_count": null,
   "metadata": {},
   "outputs": [],
   "source": [
    "# Veamos qué tan preciso (accurate) es nuestro modelo\n",
    "\n",
    "good_predictions = 0\n",
    "for image, label in STANDARDIZED_LIST:\n",
    "    predicted_label = estimate_label(image)\n",
    "    \n",
    "    if predicted_label == label:\n",
    "        good_predictions += 1\n",
    "        \n",
    "\n",
    "accuracy = good_predictions / len(STANDARDIZED_LIST)\n",
    "print('Precisión (accuracy) del modelo:', accuracy)"
   ]
  }
 ],
 "metadata": {
  "kernelspec": {
   "display_name": "Python 3",
   "language": "python",
   "name": "python3"
  },
  "language_info": {
   "codemirror_mode": {
    "name": "ipython",
    "version": 3
   },
   "file_extension": ".py",
   "mimetype": "text/x-python",
   "name": "python",
   "nbconvert_exporter": "python",
   "pygments_lexer": "ipython3",
   "version": "3.6.6"
  }
 },
 "nbformat": 4,
 "nbformat_minor": 2
}
